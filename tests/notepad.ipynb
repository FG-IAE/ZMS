{
 "metadata": {
  "language_info": {
   "codemirror_mode": {
    "name": "ipython",
    "version": 3
   },
   "file_extension": ".py",
   "mimetype": "text/x-python",
   "name": "python",
   "nbconvert_exporter": "python",
   "pygments_lexer": "ipython3",
   "version": "3.7.4-final"
  },
  "orig_nbformat": 2,
  "kernelspec": {
   "name": "python3",
   "display_name": "Python 3",
   "language": "python"
  }
 },
 "nbformat": 4,
 "nbformat_minor": 2,
 "cells": [
  {
   "cell_type": "code",
   "execution_count": 9,
   "metadata": {},
   "outputs": [],
   "source": [
    "import hashlib\n",
    "\n",
    "def encrypt_password(pw, algorithm='md5', hex=False):\n",
    "  algorithm = algorithm.lower()\n",
    "  algorithm = algorithm=='sha-1' and 'sha1' or algorithm\n",
    "  enc = None\n",
    "  if algorithm in list(hashlib.algorithms_available):\n",
    "    h = hashlib.new(algorithm)\n",
    "    h.update(pw.encode())\n",
    "    if hex:\n",
    "      enc = h.hexdigest()\n",
    "    else:\n",
    "      enc = h.digest()\n",
    "  return enc"
   ]
  },
  {
   "cell_type": "code",
   "execution_count": 12,
   "metadata": {},
   "outputs": [
    {
     "output_type": "execute_result",
     "data": {
      "text/plain": [
       "'7c4a8d09ca3762af61e59520943dc26494f8941b'"
      ]
     },
     "metadata": {},
     "execution_count": 12
    }
   ],
   "source": [
    "encrypt_password('123456','SHA-1',hex=True)"
   ]
  },
  {
   "cell_type": "code",
   "execution_count": 11,
   "metadata": {},
   "outputs": [
    {
     "output_type": "execute_result",
     "data": {
      "text/plain": [
       "'e10adc3949ba59abbe56e057f20f883e'"
      ]
     },
     "metadata": {},
     "execution_count": 11
    }
   ],
   "source": [
    "encrypt_password('123456','MD5',hex=True)"
   ]
  },
  {
   "cell_type": "code",
   "execution_count": 13,
   "metadata": {},
   "outputs": [
    {
     "output_type": "execute_result",
     "data": {
      "text/plain": [
       "'8d969eef6ecad3c29a3a629280e686cf0c3f5d5a86aff3ca12020c923adc6c92'"
      ]
     },
     "metadata": {},
     "execution_count": 13
    }
   ],
   "source": [
    "encrypt_password('123456','SHA256',hex=True)"
   ]
  },
  {
   "cell_type": "code",
   "execution_count": null,
   "metadata": {},
   "outputs": [],
   "source": []
  }
 ]
}